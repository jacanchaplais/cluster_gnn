{
 "cells": [
  {
   "cell_type": "code",
   "execution_count": 20,
   "id": "700855c9",
   "metadata": {},
   "outputs": [],
   "source": [
    "from cluster_gnn.data import loader\n",
    "import os\n",
    "from pyvis.network import Network\n",
    "import networkx as nx\n",
    "from torch_geometric.utils import to_networkx\n",
    "\n",
    "ROOT_DIR = os.path.expanduser('~/projects/cluster_gnn/')\n",
    "graph_data = loader.GraphDataModule( ROOT_DIR + '/data/', num_workers=16, knn=8)\n",
    "graph_data.setup()\n",
    "train_data = graph_data.train_dataloader()"
   ]
  },
  {
   "cell_type": "code",
   "execution_count": 23,
   "id": "0ccfc211",
   "metadata": {},
   "outputs": [
    {
     "data": {
      "text/html": [
       "\n",
       "        <iframe\n",
       "            width=\"800\"\n",
       "            height=\"600\"\n",
       "            src=\"ex.html\"\n",
       "            frameborder=\"0\"\n",
       "            allowfullscreen\n",
       "        ></iframe>\n",
       "        "
      ],
      "text/plain": [
       "<IPython.lib.display.IFrame at 0x2afc45419580>"
      ]
     },
     "execution_count": 23,
     "metadata": {},
     "output_type": "execute_result"
    }
   ],
   "source": [
    "g = Network(height=600, width=800, notebook=True)\n",
    "g.toggle_hide_edges_on_drag(False)\n",
    "g.barnes_hut()\n",
    "g.from_nx(to_networkx(train_data.dataset[24]))\n",
    "g.show('ex.html')"
   ]
  },
  {
   "cell_type": "code",
   "execution_count": 24,
   "id": "2aed758f",
   "metadata": {},
   "outputs": [
    {
     "ename": "ModuleNotFoundError",
     "evalue": "No module named 'particle'",
     "output_type": "error",
     "traceback": [
      "\u001b[0;31m---------------------------------------------------------------------------\u001b[0m",
      "\u001b[0;31mModuleNotFoundError\u001b[0m                       Traceback (most recent call last)",
      "\u001b[0;32m/tmp/ipykernel_15772/39754777.py\u001b[0m in \u001b[0;36m<module>\u001b[0;34m\u001b[0m\n\u001b[0;32m----> 1\u001b[0;31m \u001b[0;32mimport\u001b[0m \u001b[0mparticle\u001b[0m\u001b[0;34m\u001b[0m\u001b[0;34m\u001b[0m\u001b[0m\n\u001b[0m",
      "\u001b[0;31mModuleNotFoundError\u001b[0m: No module named 'particle'"
     ]
    }
   ],
   "source": [
    "import particle"
   ]
  }
 ],
 "metadata": {
  "kernelspec": {
   "display_name": "Python 3 (ipykernel)",
   "language": "python",
   "name": "python3"
  },
  "language_info": {
   "codemirror_mode": {
    "name": "ipython",
    "version": 3
   },
   "file_extension": ".py",
   "mimetype": "text/x-python",
   "name": "python",
   "nbconvert_exporter": "python",
   "pygments_lexer": "ipython3",
   "version": "3.8.10"
  }
 },
 "nbformat": 4,
 "nbformat_minor": 5
}
