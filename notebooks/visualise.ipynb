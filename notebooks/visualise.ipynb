{
 "cells": [
  {
   "cell_type": "markdown",
   "id": "9feeb1c1-eb0b-4279-b7ec-28323303ac8d",
   "metadata": {},
   "source": [
    "# HEP event graph visualiser\n",
    "This visualiser represents the final state particles generated\n",
    "from a Pythia shower of `p p > W' > W Z` as a graph.\n",
    "The `W` decays hadronically, and the `Z` entirely into neutrinos.\n",
    "\n",
    "The nodes are particles, whose size are scaled by their relative $p_T$ values.\n",
    "Edges are formed between the particles with closest $\\Delta R$. Thicker\n",
    "edges represent closer $\\Delta R$.\n",
    "\n",
    "Red nodes are \"signal\" particles, which are descendants of the `W`, black\n",
    "particles are background.\n",
    "\n",
    "Zooming in, you can see the names of the particles labelling the nodes.\n",
    "If you click the nodes, you can drag them around to get a sense of\n",
    "how tightly connected they are with their neighbourhood.\n",
    "Hovering over a node once clicked will display the particle's general properties.\n",
    "\n",
    "There are a few limited settings you can fiddle with below. The higher the number\n",
    "of edges you set, the longer it will take to form the graph.\n",
    "The graph also may become quite crowded and hard to see, so there is an option\n",
    "to increase the sparsity, although it may be harder to zoom in on and get ahold of\n",
    "individual particles.\n",
    "\n",
    "100,000 events are available to peruse, although this may take several minutes to\n",
    "convert. `TOTAL_EVENTS` controls how many are converted, and is currently set\n",
    "to 100. Feel free to increase or decrease.\n",
    "\n",
    "**N.B.** There are no axes to these graphs,\n",
    "the arrangement in space is just the result of a physics solver trying\n",
    "to arrange the nodes sensibly based on their connections.\n",
    "It treats the edges like springs and evolves the system into equilibrium."
   ]
  },
  {
   "cell_type": "markdown",
   "id": "d1aa1f55-5278-4a8e-b4bc-1ae85e67b564",
   "metadata": {},
   "source": [
    "## Sets up this package for execution"
   ]
  },
  {
   "cell_type": "code",
   "execution_count": 7,
   "id": "06843f01-23ea-4d91-9163-fd4dc39a49a0",
   "metadata": {
    "scrolled": false
   },
   "outputs": [
    {
     "name": "stdout",
     "output_type": "stream",
     "text": [
      "Processing /home/jovyan\n",
      "\u001b[33m  DEPRECATION: A future pip version will change local packages to be built in-place without first copying to a temporary directory. We recommend you use --use-feature=in-tree-build to test your packages with this new behavior before it becomes the default.\n",
      "   pip 21.3 will remove support for this functionality. You can find discussion regarding this at https://github.com/pypa/pip/issues/7555.\u001b[0m\n",
      "Building wheels for collected packages: cluster-gnn\n",
      "  Building wheel for cluster-gnn (setup.py) ... \u001b[?25ldone\n",
      "\u001b[?25h  Created wheel for cluster-gnn: filename=cluster_gnn-0.1.0-py2.py3-none-any.whl size=15725 sha256=db05dda3088be18e30965f8d2b8cbdc951fc1292e0d7f2bffd4d28dfc27b090c\n",
      "  Stored in directory: /tmp/pip-ephem-wheel-cache-3rrhr_rp/wheels/fc/c4/49/78b5bd16ca276f2916d0829d47c131046b6e4575f7dd51e987\n",
      "Successfully built cluster-gnn\n",
      "Installing collected packages: cluster-gnn\n",
      "  Attempting uninstall: cluster-gnn\n",
      "    Found existing installation: cluster-gnn 0.1.0\n",
      "    Uninstalling cluster-gnn-0.1.0:\n",
      "      Successfully uninstalled cluster-gnn-0.1.0\n",
      "Successfully installed cluster-gnn-0.1.0\n"
     ]
    }
   ],
   "source": [
    "!pip install ../"
   ]
  },
  {
   "cell_type": "code",
   "execution_count": 9,
   "id": "700855c9",
   "metadata": {
    "scrolled": true
   },
   "outputs": [],
   "source": [
    "import os\n",
    "\n",
    "import numpy as np\n",
    "import scipy.sparse as sps\n",
    "from pyvis.network import Network\n",
    "from particle import Particle\n",
    "import vector\n",
    "import wget\n",
    "from tqdm import tqdm\n",
    "\n",
    "from cluster_gnn import ROOT_DIR\n",
    "from cluster_gnn.data import convert\n",
    "from cluster_gnn.data import internal as Data\n",
    "from cluster_gnn.features import build_features as Features"
   ]
  },
  {
   "cell_type": "markdown",
   "id": "b289630d-dc60-4de3-b574-e8b68380abfc",
   "metadata": {},
   "source": [
    "## Settings for visitors to change and play with\n",
    "Adjust the variables within this cell (and execute it) to change the generated graphs"
   ]
  },
  {
   "cell_type": "code",
   "execution_count": 10,
   "id": "50767a40-1b63-4018-96af-66749a954347",
   "metadata": {},
   "outputs": [],
   "source": [
    "TOTAL_EVENTS = 100 # how many events do you want available for visualisation? (max: 100,000)\n",
    "KNN_VALUE = 15\n",
    "EVENT_NUMBER = -1 # -1 is random\n",
    "SPARSE = False"
   ]
  },
  {
   "cell_type": "markdown",
   "id": "529e0ce5",
   "metadata": {},
   "source": [
    "## Download and convert data\n",
    "\n",
    "May take a couple of minutes - sorry!"
   ]
  },
  {
   "cell_type": "code",
   "execution_count": 8,
   "id": "2103bee3",
   "metadata": {
    "scrolled": true
   },
   "outputs": [
    {
     "name": "stderr",
     "output_type": "stream",
     "text": [
      "100it [00:00, 470.46it/s]\n"
     ]
    }
   ],
   "source": [
    "# set up paths\n",
    "in_path = ROOT_DIR + '/data/external/wboson.txt'\n",
    "out_path = ROOT_DIR + '/data/processed/events_w.hdf5'\n",
    "# download raw data file\n",
    "if not os.path.exists(in_path):\n",
    "    ext_path = os.path.dirname(in_path)\n",
    "    if not os.path.exists(ext_path):\n",
    "        os.mkdir(ext_path)\n",
    "    wget.download('https://zenodo.org/record/3981290/files/wboson.txt?download=1',\n",
    "                  out=in_path)\n",
    "# convert the data to my internal format\n",
    "with convert.DataWriter(out_path) as f_out:\n",
    "    with f_out.new_process('wboson') as process:\n",
    "        process.decay(in_pcls=(2212, 2212), out_pcls=(23, 24))\n",
    "        process.signal_id(signal_pcl=24)\n",
    "        process.com_energy(energy=13.0, unit='TeV')\n",
    "        with open(in_path, 'r') as f_in:\n",
    "            for evt_num, line in enumerate(tqdm(f_in)):\n",
    "                if evt_num >= TOTAL_EVENTS: # stop at the desired number\n",
    "                    break\n",
    "                data = np.fromstring(line, sep=' ') # flattened data for evt\n",
    "                num_cols = 7 # specified in description\n",
    "                num_pcls = len(data) // num_cols\n",
    "                data = data.reshape((num_pcls, num_cols))\n",
    "                with process.new_event() as event:\n",
    "                    event.pmu(data[:, :4])\n",
    "                    event.pdg(data[:, 4])\n",
    "                    event.is_signal(data[:, 5].astype(np.bool_))"
   ]
  },
  {
   "cell_type": "markdown",
   "id": "997bafc2-9d60-46e7-a94a-5d4589f79433",
   "metadata": {},
   "source": [
    "## Visualiser code\n",
    "No need to edit, just run the code cell below, and check out graphs! :)"
   ]
  },
  {
   "cell_type": "markdown",
   "id": "9baf8928-a3da-44dc-9782-6420d559c6d4",
   "metadata": {},
   "source": [
    "### Execute me repeatedly to render graphs over and over"
   ]
  },
  {
   "cell_type": "code",
   "execution_count": 11,
   "id": "adf1a52a",
   "metadata": {},
   "outputs": [
    {
     "name": "stdout",
     "output_type": "stream",
     "text": [
      "event_000000028\n"
     ]
    },
    {
     "data": {
      "text/html": [
       "\n",
       "        <iframe\n",
       "            width=\"800\"\n",
       "            height=\"600\"\n",
       "            src=\"ex.html\"\n",
       "            frameborder=\"0\"\n",
       "            allowfullscreen\n",
       "        ></iframe>\n",
       "        "
      ],
      "text/plain": [
       "<IPython.lib.display.IFrame at 0x2b008e0e53d0>"
      ]
     },
     "execution_count": 11,
     "metadata": {},
     "output_type": "execute_result"
    }
   ],
   "source": [
    "with Data.EventLoader(out_path, 'wboson') as evts:\n",
    "    # set data object state to point at first event\n",
    "    num_evts = len(evts)\n",
    "    evt_num = EVENT_NUMBER if EVENT_NUMBER != -1 else np.random.randint(num_evts)\n",
    "    evts.set_evt(evt_num)\n",
    "    # form weighted edges\n",
    "    pmu = evts.get_pmu()\n",
    "    signal = evts.get_signal()\n",
    "    sps_adj = sps.coo_matrix(\n",
    "        Features.knn_adj(\n",
    "            Features.deltaR_aff(pmu),\n",
    "            k=KNN_VALUE,\n",
    "            weighted=True,\n",
    "            dtype=np.float32\n",
    "            )\n",
    "        )\n",
    "    edge_idxs = zip(map(int, sps_adj.row),\n",
    "                    map(int, sps_adj.col),\n",
    "                    map(lambda wt: (float(wt) + 0.1)**-1, sps_adj.data)\n",
    "                    )\n",
    "    # get data from particle ids\n",
    "    pcls = [Particle.from_pdgid(pdg) for pdg in evts.get_pdg()]\n",
    "    labels = list(map(lambda pcl: pcl.name, pcls))\n",
    "    titles = zip(\n",
    "        map(lambda pcl: f'mass: {pcl.mass} MeV', pcls),\n",
    "        map(lambda pcl: f'width: {pcl.width} MeV', pcls),\n",
    "        map(lambda pcl: f'lifetime: {pcl.width} ns', pcls),\n",
    "        map(lambda pcl: f'charge: {pcl.charge}', pcls),\n",
    "        map(lambda pcl: f'isospin: {pcl.I}', pcls),\n",
    "        map(lambda pcl: f'charge parity: {pcl.C}', pcls),\n",
    "        map(lambda pcl: f'space parity: {pcl.P}', pcls),\n",
    "        map(lambda pcl: f'total angular momentum: {pcl.J}', pcls),\n",
    "    )\n",
    "    titles = map(lambda title: '<br>'.join(title), titles)\n",
    "    ids = list(range(len(pcls)))\n",
    "    node_vals = Features._array_to_vec(pmu).pt\n",
    "    node_vals = node_vals * 10.0 / node_vals.max()\n",
    "    node_vals = tuple(float(val) for val in node_vals)\n",
    "    # identify which are W boson\n",
    "    groups = list(signal.astype(np.uint8))\n",
    "    print(evts.get_evt_name())\n",
    "net = Network(height=600, width=800, notebook=True, directed=False)\n",
    "net.toggle_hide_edges_on_drag(False)\n",
    "if SPARSE == True:\n",
    "    net.barnes_hut()\n",
    "else:\n",
    "    net.barnes_hut(\n",
    "        gravity=-10000,\n",
    "        central_gravity=0.01,\n",
    "        spring_length=200,\n",
    "        spring_strength=0.015,\n",
    "        overlap=1,\n",
    "        damping=0.5,\n",
    "    )\n",
    "net.add_nodes(ids,\n",
    "          label=labels,\n",
    "          value=node_vals,\n",
    "          color=['#162347' if group == 0 else '#dd4b39' for group in groups],\n",
    "          title=list(titles),\n",
    "          )\n",
    "net.add_edges(edge_idxs)\n",
    "net.show('ex.html')"
   ]
  }
 ],
 "metadata": {
  "kernelspec": {
   "display_name": "Python 3 (ipykernel)",
   "language": "python",
   "name": "python3"
  },
  "language_info": {
   "codemirror_mode": {
    "name": "ipython",
    "version": 3
   },
   "file_extension": ".py",
   "mimetype": "text/x-python",
   "name": "python",
   "nbconvert_exporter": "python",
   "pygments_lexer": "ipython3",
   "version": "3.8.10"
  }
 },
 "nbformat": 4,
 "nbformat_minor": 5
}
