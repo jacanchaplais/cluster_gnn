{
 "cells": [
  {
   "cell_type": "code",
   "execution_count": null,
   "id": "700855c9",
   "metadata": {
    "scrolled": true
   },
   "outputs": [],
   "source": [
    "import os\n",
    "\n",
    "import numpy as np\n",
    "import scipy.sparse as sps\n",
    "from pyvis.network import Network\n",
    "from particle import Particle\n",
    "import vector\n",
    "\n",
    "from cluster_gnn.data import internal as Data\n",
    "from cluster_gnn.features import build_features as Features"
   ]
  },
  {
   "cell_type": "code",
   "execution_count": null,
   "id": "adf1a52a",
   "metadata": {
    "scrolled": false
   },
   "outputs": [],
   "source": [
    "ROOT_DIR = os.path.expanduser('~/projects/cluster_gnn/')\n",
    "\n",
    "with Data.EventLoader(ROOT_DIR + 'data/processed/events.hdf5', 'wboson') as evts:\n",
    "    # set data object state to point at first event\n",
    "    num_evts = len(evts)\n",
    "    evt_num = np.random.randint(num_evts)\n",
    "    evts.set_evt(evt_num)\n",
    "    # form weighted edges\n",
    "    pmu = evts.get_pmu()\n",
    "    signal = evts.get_signal()\n",
    "    sps_adj = sps.coo_matrix(\n",
    "        Features.knn_adj(\n",
    "            Features.deltaR_aff(pmu),\n",
    "            k=8,\n",
    "            weighted=True,\n",
    "            dtype=np.float32\n",
    "            )\n",
    "        )\n",
    "    edge_idxs = zip(tuple(int(idx) for idx in sps_adj.row),\n",
    "                    tuple(int(idx) for idx in sps_adj.col),\n",
    "                    tuple(1.0 / (float(wt) + 0.1) for wt in sps_adj.data)\n",
    "                    )\n",
    "    # get data from particle ids\n",
    "    pcls = [Particle.from_pdgid(pdg) for pdg in evts.get_pdg()]\n",
    "    labels = list(map(lambda pcl: pcl.name, pcls))\n",
    "    ids = list(range(len(pcls)))\n",
    "    node_vals = Features._array_to_vec(pmu).pt\n",
    "    node_vals = node_vals * 10.0 / node_vals.max()\n",
    "    node_vals = tuple(float(val) for val in node_vals)\n",
    "    # identify which are W boson\n",
    "    groups = list(signal.astype(np.uint8))\n",
    "    print(evts.get_evt_name())\n",
    "net = Network(height=600, width=800, notebook=True, directed=False)\n",
    "net.toggle_hide_edges_on_drag(False)\n",
    "net.barnes_hut()\n",
    "net.add_nodes(ids,\n",
    "          label=labels,\n",
    "          value=node_vals,\n",
    "          color=['#162347' if group == 0 else '#dd4b39' for group in groups],\n",
    "          )\n",
    "net.add_edges(edge_idxs)\n",
    "net.show('ex.html')"
   ]
  },
  {
   "cell_type": "markdown",
   "id": "d5173d4c",
   "metadata": {},
   "source": [
    "Could charge be incorperated, and then summed at the end for comparison against the charge of the initial particle?\n",
    "_eg._ the W0 boson has Q = 0, so if the sum of the charges of the predicted particles is very different from zero, the model could be penalised?"
   ]
  },
  {
   "cell_type": "code",
   "execution_count": null,
   "id": "54fda8b3",
   "metadata": {
    "scrolled": true
   },
   "outputs": [],
   "source": [
    "tot_charge = 0.0\n",
    "for i in np.argwhere(signal).reshape(-1):\n",
    "    pcl = pcls[i]\n",
    "    tot_charge += pcl.charge\n",
    "print(f'The total charge of final state is {tot_charge}')"
   ]
  },
  {
   "cell_type": "code",
   "execution_count": 46,
   "id": "be0dc454",
   "metadata": {},
   "outputs": [
    {
     "name": "stdout",
     "output_type": "stream",
     "text": [
      "seed charge is [1.0], and cumulative constit charge is -1.0\n"
     ]
    }
   ],
   "source": [
    "import numpy as np\n",
    "\n",
    "from cluster_gnn import ROOT_DIR\n",
    "from cluster_gnn.data import internal as Data\n",
    "from cluster_gnn.data import pdg\n",
    "\n",
    "lookup_pdg = pdg.LookupPDG()\n",
    "\n",
    "with Data.EventLoader(ROOT_DIR + '/data/processed/events.hdf5', 'wboson') as evts:\n",
    "    evt_num = np.random.randint(len(evts))\n",
    "    evts.set_evt(evt_num)\n",
    "    pmu = evts.get_pmu()\n",
    "    pdgs = evts.get_pdg()\n",
    "    signal = evts.get_signal()\n",
    "    seed_pdg = evts.get_ue_pcls('signal_pcl')\n",
    "\n",
    "charges = lookup_pdg.get_charge(pdgs)\n",
    "cum_charge = np.sum(np.array(charges)[signal])\n",
    "seed_charge = lookup_pdg.get_charge([seed_pdg])\n",
    "\n",
    "print(f'seed charge is {seed_charge}, and cumulative constit charge is {cum_charge}')"
   ]
  },
  {
   "cell_type": "code",
   "execution_count": 61,
   "id": "affd05ba",
   "metadata": {},
   "outputs": [],
   "source": [
    "import torch\n",
    "q_t = torch.tensor(charges)\n",
    "q_t = q_t.reshape(-1, 1)\n",
    "pmu_t = torch.tensor(pmu)"
   ]
  },
  {
   "cell_type": "code",
   "execution_count": 63,
   "id": "fd7c83ae",
   "metadata": {},
   "outputs": [
    {
     "name": "stdout",
     "output_type": "stream",
     "text": [
      "torch.Size([226, 1])\n",
      "torch.Size([226, 4])\n"
     ]
    }
   ],
   "source": [
    "print(q_t.shape)\n",
    "print(pmu_t.shape)"
   ]
  },
  {
   "cell_type": "code",
   "execution_count": 87,
   "id": "ce674680",
   "metadata": {
    "scrolled": false
   },
   "outputs": [],
   "source": [
    "feat = torch.cat([q_t, pmu_t], dim=1)"
   ]
  },
  {
   "cell_type": "code",
   "execution_count": 88,
   "id": "f997cdc0",
   "metadata": {},
   "outputs": [],
   "source": [
    "fancy_idx = torch.from_numpy(np.argwhere(signal).reshape(-1))"
   ]
  },
  {
   "cell_type": "code",
   "execution_count": 90,
   "id": "66b09f0c",
   "metadata": {},
   "outputs": [
    {
     "data": {
      "text/plain": [
       "tensor(-1.)"
      ]
     },
     "execution_count": 90,
     "metadata": {},
     "output_type": "execute_result"
    }
   ],
   "source": [
    "feat[fancy_idx, 0].sum()"
   ]
  },
  {
   "cell_type": "code",
   "execution_count": 92,
   "id": "7f9528f7",
   "metadata": {},
   "outputs": [],
   "source": [
    "edge_attrs = torch.rand(20)"
   ]
  },
  {
   "cell_type": "code",
   "execution_count": 93,
   "id": "008f65d3",
   "metadata": {},
   "outputs": [
    {
     "data": {
      "text/plain": [
       "tensor([False,  True, False, False,  True, False,  True,  True, False, False,\n",
       "        False,  True,  True,  True, False,  True,  True, False, False, False])"
      ]
     },
     "execution_count": 93,
     "metadata": {},
     "output_type": "execute_result"
    }
   ],
   "source": [
    "mask = edge_attrs.ge(0.5)"
   ]
  }
 ],
 "metadata": {
  "kernelspec": {
   "display_name": "Python 3 (ipykernel)",
   "language": "python",
   "name": "python3"
  },
  "language_info": {
   "codemirror_mode": {
    "name": "ipython",
    "version": 3
   },
   "file_extension": ".py",
   "mimetype": "text/x-python",
   "name": "python",
   "nbconvert_exporter": "python",
   "pygments_lexer": "ipython3",
   "version": "3.8.10"
  }
 },
 "nbformat": 4,
 "nbformat_minor": 5
}
