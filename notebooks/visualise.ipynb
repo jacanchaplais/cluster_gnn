{
 "cells": [
  {
   "cell_type": "code",
   "execution_count": 1,
   "id": "700855c9",
   "metadata": {},
   "outputs": [
    {
     "name": "stderr",
     "output_type": "stream",
     "text": [
      "/mainfs/scratch/jlc1n20/mambaforge/envs/ptg/lib/python3.8/site-packages/torch/cuda/__init__.py:52: UserWarning: CUDA initialization: Found no NVIDIA driver on your system. Please check that you have an NVIDIA GPU and installed a driver from http://www.nvidia.com/Download/index.aspx (Triggered internally at  /opt/conda/conda-bld/pytorch_1607369981906/work/c10/cuda/CUDAFunctions.cpp:100.)\n",
      "  return torch._C._cuda_getDeviceCount() > 0\n"
     ]
    }
   ],
   "source": [
    "from cluster_gnn.data import loader\n",
    "import os\n",
    "from pyvis.network import Network\n",
    "import networkx as nx\n",
    "from torch_geometric.utils import to_networkx\n",
    "import particle\n",
    "\n",
    "ROOT_DIR = os.path.expanduser('~/projects/cluster_gnn/')\n",
    "graph_data = loader.GraphDataModule(ROOT_DIR + '/data/', num_workers=16, knn=8, edge_weight=True)\n",
    "graph_data.setup()\n",
    "train_data = graph_data.train_dataloader()"
   ]
  },
  {
   "cell_type": "code",
   "execution_count": 2,
   "id": "0ccfc211",
   "metadata": {
    "scrolled": false
   },
   "outputs": [
    {
     "data": {
      "text/html": [
       "\n",
       "        <iframe\n",
       "            width=\"800\"\n",
       "            height=\"600\"\n",
       "            src=\"ex.html\"\n",
       "            frameborder=\"0\"\n",
       "            allowfullscreen\n",
       "        ></iframe>\n",
       "        "
      ],
      "text/plain": [
       "<IPython.lib.display.IFrame at 0x2b66d090c580>"
      ]
     },
     "execution_count": 2,
     "metadata": {},
     "output_type": "execute_result"
    }
   ],
   "source": [
    "g = Network(height=600, width=800, notebook=True)\n",
    "g.toggle_hide_edges_on_drag(False)\n",
    "g.barnes_hut()\n",
    "graph = train_data.dataset[31]\n",
    "graphx = to_networkx(graph)\n",
    "edge_idx = graph.edge_index.numpy()\n",
    "edges = zip(edge_idx[0], edge_idx[1], graph.edge_attr.numpy())\n",
    "edges = [{'value': 1.0 / (edge[2] + 0.1), 'from': int(edge[0]), 'to': int(edge[1])} for edge in edges]\n",
    "g.from_nx(graphx)\n",
    "g.edges = edges\n",
    "g.show('ex.html')"
   ]
  }
 ],
 "metadata": {
  "kernelspec": {
   "display_name": "Python 3 (ipykernel)",
   "language": "python",
   "name": "python3"
  },
  "language_info": {
   "codemirror_mode": {
    "name": "ipython",
    "version": 3
   },
   "file_extension": ".py",
   "mimetype": "text/x-python",
   "name": "python",
   "nbconvert_exporter": "python",
   "pygments_lexer": "ipython3",
   "version": "3.8.10"
  }
 },
 "nbformat": 4,
 "nbformat_minor": 5
}
