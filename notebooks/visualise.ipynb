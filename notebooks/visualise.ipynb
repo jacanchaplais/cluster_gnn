{
 "cells": [
  {
   "cell_type": "code",
   "execution_count": 1,
   "id": "700855c9",
   "metadata": {
    "scrolled": true
   },
   "outputs": [],
   "source": [
    "import os\n",
    "\n",
    "import numpy as np\n",
    "import scipy.sparse as sps\n",
    "from pyvis.network import Network\n",
    "from particle import Particle\n",
    "import vector\n",
    "\n",
    "from cluster_gnn.data import internal as Data\n",
    "from cluster_gnn.features import build_features as Features"
   ]
  },
  {
   "cell_type": "code",
   "execution_count": 14,
   "id": "adf1a52a",
   "metadata": {
    "scrolled": false
   },
   "outputs": [
    {
     "data": {
      "text/html": [
       "\n",
       "        <iframe\n",
       "            width=\"800\"\n",
       "            height=\"600\"\n",
       "            src=\"ex.html\"\n",
       "            frameborder=\"0\"\n",
       "            allowfullscreen\n",
       "        ></iframe>\n",
       "        "
      ],
      "text/plain": [
       "<IPython.lib.display.IFrame at 0x2b221bb70940>"
      ]
     },
     "execution_count": 14,
     "metadata": {},
     "output_type": "execute_result"
    }
   ],
   "source": [
    "ROOT_DIR = os.path.expanduser('~/projects/cluster_gnn/')\n",
    "\n",
    "with Data.EventLoader(ROOT_DIR + 'data/processed/events.hdf5', 'wboson') as evts:\n",
    "    # set data object state to point at first event\n",
    "    evts.set_evt(5257)\n",
    "    # form weighted edges\n",
    "    pmu = evts.get_pmu()\n",
    "    sps_adj = sps.coo_matrix(\n",
    "        Features.knn_adj(\n",
    "            Features.deltaR_aff(pmu),\n",
    "            k=8,\n",
    "            weighted=True,\n",
    "            dtype=np.float32\n",
    "            )\n",
    "        )\n",
    "    edge_idxs = zip(tuple(int(idx) for idx in sps_adj.row),\n",
    "                    tuple(int(idx) for idx in sps_adj.col),\n",
    "                    tuple(1.0 / (float(wt) + 0.1) for wt in sps_adj.data)\n",
    "                    )\n",
    "    # get data from particle ids\n",
    "    pcls = [Particle.from_pdgid(pdg) for pdg in evts.get_pdg()]\n",
    "    labels = list(map(lambda pcl: pcl.name, pcls))\n",
    "    ids = list(range(len(pcls)))\n",
    "    node_vals = Features._array_to_vec(pmu).pt\n",
    "    node_vals = node_vals * 10.0 / node_vals.max()\n",
    "    node_vals = tuple(float(val) for val in node_vals)\n",
    "    # identify which are W boson\n",
    "    groups = list(evts.get_signal(key='is_from_W').astype(np.uint8))\n",
    "    \n",
    "net = Network(height=600, width=800, notebook=True)\n",
    "net.toggle_hide_edges_on_drag(False)\n",
    "net.barnes_hut()\n",
    "net.add_nodes(ids,\n",
    "          label=labels,\n",
    "          value=node_vals,\n",
    "          color=['#162347' if group == 0 else '#dd4b39' for group in groups],\n",
    "          )\n",
    "net.add_edges(edge_idxs)\n",
    "net.show('ex.html')"
   ]
  }
 ],
 "metadata": {
  "kernelspec": {
   "display_name": "Python 3 (ipykernel)",
   "language": "python",
   "name": "python3"
  },
  "language_info": {
   "codemirror_mode": {
    "name": "ipython",
    "version": 3
   },
   "file_extension": ".py",
   "mimetype": "text/x-python",
   "name": "python",
   "nbconvert_exporter": "python",
   "pygments_lexer": "ipython3",
   "version": "3.8.10"
  }
 },
 "nbformat": 4,
 "nbformat_minor": 5
}
