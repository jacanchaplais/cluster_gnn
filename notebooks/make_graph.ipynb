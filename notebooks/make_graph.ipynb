{
 "cells": [
  {
   "cell_type": "code",
   "execution_count": 1,
   "id": "795b85ee",
   "metadata": {},
   "outputs": [],
   "source": [
    "# import os.path as osp\n",
    "\n",
    "from tqdm import tqdm\n",
    "import numpy as np\n",
    "import pandas as pd\n",
    "import vaex as vpd\n",
    "from numba import jit\n",
    "import torch\n",
    "# import torch.nn as nn\n",
    "# import torch.nn.functional as F\n",
    "# import torch.optim as optim\n",
    "from torch_geometric.data import Data\n",
    "from torch_geometric.utils.loop import remove_self_loops"
   ]
  },
  {
   "cell_type": "code",
   "execution_count": 2,
   "id": "ba061d4a",
   "metadata": {},
   "outputs": [],
   "source": [
    "w_df = vpd.open('../data/external/wboson.hdf5').to_pandas_df().set_index('evt_num')\n",
    "# q_df = vpd.open('../data/external/qstar.hdf5')"
   ]
  },
  {
   "cell_type": "code",
   "execution_count": 3,
   "id": "d5dedf66",
   "metadata": {},
   "outputs": [],
   "source": [
    "@jit\n",
    "def get_edges(num_nodes):\n",
    "    nodes = np.arange(num_nodes)\n",
    "    edge_idx = np.vstack((\n",
    "        np.repeat(nodes, num_nodes),\n",
    "        np.repeat(nodes, num_nodes).reshape(-1, num_nodes).T.flatten()\n",
    "    ))\n",
    "    return edge_idx"
   ]
  },
  {
   "cell_type": "code",
   "execution_count": null,
   "id": "502ee887",
   "metadata": {},
   "outputs": [
    {
     "name": "stderr",
     "output_type": "stream",
     "text": [
      " 10%|█         | 10202/99999 [16:26<3:12:28,  7.78it/s]"
     ]
    }
   ],
   "source": [
    "data = []\n",
    "num_evts = w_df.index.max()\n",
    "mmtm_slc = [slice(None), slice(0, 4)]\n",
    "\n",
    "for evt_num in tqdm(range(0, num_evts)):\n",
    "    mmtm = torch.from_numpy( # create torch tensor\n",
    "        w_df.loc[evt_num, 'px':'E'].values # get numpy values for 4-momentum\n",
    "    )\n",
    "    num_nodes = mmtm.shape[0]\n",
    "    edge_idx = torch.tensor(get_edges(num_nodes), dtype=torch.long)\n",
    "    edge_idx, _ = remove_self_loops(edge_idx)\n",
    "    graph = Data(x=mmtm, edge_index=edge_idx)\n",
    "    data.append(graph)"
   ]
  }
 ],
 "metadata": {
  "kernelspec": {
   "display_name": "Python 3",
   "language": "python",
   "name": "python3"
  },
  "language_info": {
   "codemirror_mode": {
    "name": "ipython",
    "version": 3
   },
   "file_extension": ".py",
   "mimetype": "text/x-python",
   "name": "python",
   "nbconvert_exporter": "python",
   "pygments_lexer": "ipython3",
   "version": "3.8.8"
  }
 },
 "nbformat": 4,
 "nbformat_minor": 5
}
