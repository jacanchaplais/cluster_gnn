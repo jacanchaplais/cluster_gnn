{
 "cells": [
  {
   "cell_type": "code",
   "execution_count": 28,
   "id": "a2e244e0",
   "metadata": {},
   "outputs": [],
   "source": [
    "import numpy as np\n",
    "from numba import jit\n",
    "import h5py\n",
    "import torch\n",
    "from torch_geometric.data import Data, Dataset,"
   ]
  },
  {
   "cell_type": "code",
   "execution_count": 61,
   "id": "95d7e94f",
   "metadata": {},
   "outputs": [],
   "source": [
    "class EventDataset(Dataset):\n",
    "    def __init__(self, transform=None, pre_transform=None):\n",
    "        super(EventDataset, self).__init__(None, transform, pre_transform)\n",
    "    \n",
    "    @property\n",
    "    def raw_file_names(self):\n",
    "        return ['../data/external/wboson.txt', '../data/external/qstar.txt']\n",
    "    \n",
    "    @property\n",
    "    def processed_file_names(self):\n",
    "        return ['../data/processed/events.hdf5']\n",
    "    \n",
    "    def len(self):\n",
    "        return 100000\n",
    "    \n",
    "    @jit(forceobj=True)\n",
    "    def _get_edges(self, num_nodes):\n",
    "        \"\"\"Returns COO formatted graph edges for\n",
    "        full connected graph of given number of nodes.\n",
    "        type: (2, num_nodes * (num_nodes - 1)) dim array\n",
    "        \"\"\"\n",
    "        nodes = np.arange(num_nodes, dtype=np.int64)\n",
    "        edge_idx = np.vstack((\n",
    "            np.repeat(nodes, num_nodes),\n",
    "            np.repeat(nodes, num_nodes).reshape(-1, num_nodes).T.flatten()\n",
    "        ))\n",
    "        # removing self-loops\n",
    "        mask = edge_idx[0] != edge_idx[1]\n",
    "        edge_idx = edge_idx[:, mask]\n",
    "        return edge_idx\n",
    "    \n",
    "    def get(self, idx):\n",
    "        with h5py.File('../data/processed/events.hdf5', 'r') as f:\n",
    "            # LOAD DATA:\n",
    "            evt = f['wboson'][f'event_{idx:06}']\n",
    "            num_nodes = evt.attrs['num_pcls']\n",
    "            pmu = torch.from_numpy(evt['pmu'][...]) # 4-momentum for nodes\n",
    "            edge_idx = torch.from_numpy(self._get_edges(num_nodes)).long()\n",
    "            pdg = torch.from_numpy(evt['pdg'][...]) # PDG for posterity\n",
    "            \n",
    "            # CONSTRUCT EDGE LABELS:\n",
    "            is_from_W = evt['is_from_W'][...]\n",
    "            # node pairs bool labelled for all edges\n",
    "            is_from_W = is_from_W[edge_idx]\n",
    "            # reduce => True if both nodes True\n",
    "            edge_labels = np.bitwise_and.reduce(is_from_W, axis=0)\n",
    "            edge_labels = torch.from_numpy(edge_labels).float()\n",
    "            \n",
    "            # RETURN GRAPH\n",
    "            return Data(x=pmu, edge_index=edge_idx,\n",
    "                        y=edge_labels, pdg=pdg)\n",
    "\n",
    "        "
   ]
  },
  {
   "cell_type": "code",
   "execution_count": 62,
   "id": "90d04dbc",
   "metadata": {},
   "outputs": [],
   "source": [
    "dataset = EventDataset()"
   ]
  },
  {
   "cell_type": "code",
   "execution_count": null,
   "id": "ffe96c48",
   "metadata": {},
   "outputs": [],
   "source": []
  }
 ],
 "metadata": {
  "kernelspec": {
   "display_name": "Python 3",
   "language": "python",
   "name": "python3"
  },
  "language_info": {
   "codemirror_mode": {
    "name": "ipython",
    "version": 3
   },
   "file_extension": ".py",
   "mimetype": "text/x-python",
   "name": "python",
   "nbconvert_exporter": "python",
   "pygments_lexer": "ipython3",
   "version": "3.8.8"
  }
 },
 "nbformat": 4,
 "nbformat_minor": 5
}
