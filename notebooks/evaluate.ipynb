{
 "cells": [
  {
   "cell_type": "code",
   "execution_count": 1,
   "id": "c091e597",
   "metadata": {},
   "outputs": [],
   "source": [
    "import numpy as np\n",
    "import torch\n",
    "from tqdm import tqdm\n",
    "from torch_geometric.data import DataLoader\n",
    "\n",
    "from cluster_gnn.models import gnn\n",
    "from cluster_gnn.data import loader as loadtools"
   ]
  },
  {
   "cell_type": "code",
   "execution_count": 2,
   "id": "9b905ab6",
   "metadata": {},
   "outputs": [],
   "source": [
    "# configure the architecture\n",
    "FINAL_BIAS = False\n",
    "DIM_EMBED_EDGE = 64\n",
    "DIM_EMBED_NODE = 32\n",
    "ROOT_DIR = '/home/jlc1n20/projects/cluster_gnn/'"
   ]
  },
  {
   "cell_type": "code",
   "execution_count": 3,
   "id": "337d1069",
   "metadata": {},
   "outputs": [
    {
     "data": {
      "text/plain": [
       "Net(\n",
       "  (conv1): Interaction(\n",
       "    (mlp_edge): Sequential(\n",
       "      (0): Linear(in_features=8, out_features=64, bias=True)\n",
       "      (1): ReLU()\n",
       "      (2): Linear(in_features=64, out_features=64, bias=True)\n",
       "    )\n",
       "    (mlp_node): Sequential(\n",
       "      (0): Linear(in_features=68, out_features=32, bias=True)\n",
       "      (1): ReLU()\n",
       "      (2): Linear(in_features=32, out_features=32, bias=True)\n",
       "    )\n",
       "  )\n",
       "  (conv2): Interaction(\n",
       "    (mlp_edge): Sequential(\n",
       "      (0): Linear(in_features=128, out_features=64, bias=True)\n",
       "      (1): ReLU()\n",
       "      (2): Linear(in_features=64, out_features=64, bias=True)\n",
       "    )\n",
       "    (mlp_node): Sequential(\n",
       "      (0): Linear(in_features=96, out_features=32, bias=True)\n",
       "      (1): ReLU()\n",
       "      (2): Linear(in_features=32, out_features=32, bias=True)\n",
       "    )\n",
       "  )\n",
       "  (conv3): Interaction(\n",
       "    (mlp_edge): Sequential(\n",
       "      (0): Linear(in_features=128, out_features=64, bias=True)\n",
       "      (1): ReLU()\n",
       "      (2): Linear(in_features=64, out_features=64, bias=True)\n",
       "    )\n",
       "    (mlp_node): Sequential(\n",
       "      (0): Linear(in_features=96, out_features=32, bias=True)\n",
       "      (1): ReLU()\n",
       "      (2): Linear(in_features=32, out_features=32, bias=True)\n",
       "    )\n",
       "  )\n",
       "  (conv4): Interaction(\n",
       "    (mlp_edge): Sequential(\n",
       "      (0): Linear(in_features=128, out_features=64, bias=True)\n",
       "      (1): ReLU()\n",
       "      (2): Linear(in_features=64, out_features=64, bias=True)\n",
       "    )\n",
       "    (mlp_node): Sequential(\n",
       "      (0): Linear(in_features=96, out_features=32, bias=True)\n",
       "      (1): ReLU()\n",
       "      (2): Linear(in_features=32, out_features=32, bias=True)\n",
       "    )\n",
       "  )\n",
       "  (classify): Linear(in_features=64, out_features=1, bias=False)\n",
       ")"
      ]
     },
     "execution_count": 3,
     "metadata": {},
     "output_type": "execute_result"
    }
   ],
   "source": [
    "# load in the network\n",
    "device = torch.device('cpu')\n",
    "model = gnn.Net(dim_embed_edge=DIM_EMBED_EDGE,\n",
    "                dim_embed_node=DIM_EMBED_NODE,\n",
    "                final_bias=FINAL_BIAS).to(device)\n",
    "model.load_state_dict(torch.load(ROOT_DIR + '/models/pos80lr14.pt', map_location=device))\n",
    "model.eval()"
   ]
  },
  {
   "cell_type": "code",
   "execution_count": 4,
   "id": "0b475c41",
   "metadata": {},
   "outputs": [],
   "source": [
    "# load an iterator over the data\n",
    "dataset = loadtools.EventDataset()\n",
    "dataset = dataset[90000:90010]\n",
    "loader = DataLoader(dataset, batch_size=1)"
   ]
  },
  {
   "cell_type": "code",
   "execution_count": 7,
   "id": "bcadbcaa",
   "metadata": {
    "scrolled": false
   },
   "outputs": [
    {
     "name": "stderr",
     "output_type": "stream",
     "text": [
      " 10%|█         | 1/10 [00:02<00:20,  2.26s/it]"
     ]
    },
    {
     "name": "stdout",
     "output_type": "stream",
     "text": [
      "Graph has 64770 edges, of which 756 are positive, and 64014 are negative.\n",
      "Positive labels: 723 correctly identified, 33 incorrectly marked as negative.\n",
      "Negative labels: 63412 correctly identified, 602 incorrectly marked as positive.\n"
     ]
    },
    {
     "name": "stderr",
     "output_type": "stream",
     "text": [
      "\r",
      " 20%|██        | 2/10 [00:06<00:25,  3.23s/it]"
     ]
    },
    {
     "name": "stdout",
     "output_type": "stream",
     "text": [
      "Graph has 250500 edges, of which 4830 are positive, and 245670 are negative.\n",
      "Positive labels: 4084 correctly identified, 746 incorrectly marked as negative.\n",
      "Negative labels: 241761 correctly identified, 3909 incorrectly marked as positive.\n"
     ]
    },
    {
     "name": "stderr",
     "output_type": "stream",
     "text": [
      "\r",
      " 30%|███       | 3/10 [00:13<00:35,  5.13s/it]"
     ]
    },
    {
     "name": "stdout",
     "output_type": "stream",
     "text": [
      "Graph has 487902 edges, of which 1482 are positive, and 486420 are negative.\n",
      "Positive labels: 1452 correctly identified, 30 incorrectly marked as negative.\n",
      "Negative labels: 480726 correctly identified, 5694 incorrectly marked as positive.\n"
     ]
    },
    {
     "name": "stderr",
     "output_type": "stream",
     "text": [
      "\r",
      " 40%|████      | 4/10 [00:16<00:26,  4.35s/it]"
     ]
    },
    {
     "name": "stdout",
     "output_type": "stream",
     "text": [
      "Graph has 105300 edges, of which 930 are positive, and 104370 are negative.\n",
      "Positive labels: 921 correctly identified, 9 incorrectly marked as negative.\n",
      "Negative labels: 103086 correctly identified, 1284 incorrectly marked as positive.\n"
     ]
    },
    {
     "name": "stderr",
     "output_type": "stream",
     "text": [
      "\r",
      " 50%|█████     | 5/10 [00:21<00:23,  4.64s/it]"
     ]
    },
    {
     "name": "stdout",
     "output_type": "stream",
     "text": [
      "Graph has 293222 edges, of which 1332 are positive, and 291890 are negative.\n",
      "Positive labels: 1249 correctly identified, 83 incorrectly marked as negative.\n",
      "Negative labels: 290290 correctly identified, 1600 incorrectly marked as positive.\n"
     ]
    },
    {
     "name": "stderr",
     "output_type": "stream",
     "text": [
      "\r",
      " 60%|██████    | 6/10 [00:26<00:18,  4.59s/it]"
     ]
    },
    {
     "name": "stdout",
     "output_type": "stream",
     "text": [
      "Graph has 126380 edges, of which 1560 are positive, and 124820 are negative.\n",
      "Positive labels: 1394 correctly identified, 166 incorrectly marked as negative.\n",
      "Negative labels: 123595 correctly identified, 1225 incorrectly marked as positive.\n"
     ]
    },
    {
     "name": "stderr",
     "output_type": "stream",
     "text": [
      "\r",
      " 70%|███████   | 7/10 [00:29<00:12,  4.01s/it]"
     ]
    },
    {
     "name": "stdout",
     "output_type": "stream",
     "text": [
      "Graph has 115260 edges, of which 870 are positive, and 114390 are negative.\n",
      "Positive labels: 658 correctly identified, 212 incorrectly marked as negative.\n",
      "Negative labels: 113763 correctly identified, 627 incorrectly marked as positive.\n"
     ]
    },
    {
     "name": "stderr",
     "output_type": "stream",
     "text": [
      "\r",
      " 80%|████████  | 8/10 [00:32<00:07,  3.79s/it]"
     ]
    },
    {
     "name": "stdout",
     "output_type": "stream",
     "text": [
      "Graph has 153272 edges, of which 870 are positive, and 152402 are negative.\n",
      "Positive labels: 813 correctly identified, 57 incorrectly marked as negative.\n",
      "Negative labels: 150259 correctly identified, 2143 incorrectly marked as positive.\n"
     ]
    },
    {
     "name": "stderr",
     "output_type": "stream",
     "text": [
      "\r",
      " 90%|█████████ | 9/10 [00:34<00:03,  3.13s/it]"
     ]
    },
    {
     "name": "stdout",
     "output_type": "stream",
     "text": [
      "Graph has 63252 edges, of which 2070 are positive, and 61182 are negative.\n",
      "Positive labels: 2070 correctly identified, 0 incorrectly marked as negative.\n",
      "Negative labels: 58767 correctly identified, 2415 incorrectly marked as positive.\n"
     ]
    },
    {
     "name": "stderr",
     "output_type": "stream",
     "text": [
      "100%|██████████| 10/10 [00:39<00:00,  3.98s/it]"
     ]
    },
    {
     "name": "stdout",
     "output_type": "stream",
     "text": [
      "Graph has 304152 edges, of which 1056 are positive, and 303096 are negative.\n",
      "Positive labels: 1050 correctly identified, 6 incorrectly marked as negative.\n",
      "Negative labels: 301734 correctly identified, 1362 incorrectly marked as positive.\n"
     ]
    },
    {
     "name": "stderr",
     "output_type": "stream",
     "text": [
      "\n"
     ]
    }
   ],
   "source": [
    "THRESH = 0.90\n",
    "# loop through the data in evaluation mode, printing classifications\n",
    "with torch.no_grad():\n",
    "    for data in tqdm(loader):\n",
    "        label = data.y.detach().numpy().astype(bool)\n",
    "        num_pos = int(label.sum())\n",
    "        num_neg = len(label) - num_pos\n",
    "        output = torch.sigmoid(model(data))\n",
    "        pred = np.where(output.detach().numpy() < THRESH, 0, 1).astype(bool).reshape(-1)\n",
    "        key, val = np.unique(pred, return_counts=True)\n",
    "        classes = {key[0]: val[0], key[1]: val[1]}\n",
    "        true_pos = np.bitwise_and.reduce([pred, label], axis=0).sum()\n",
    "        true_neg = np.bitwise_and.reduce([pred == False, label == False], axis=0).sum()\n",
    "        false_pos = classes[True] - true_pos\n",
    "        false_neg = classes[False] - true_neg\n",
    "        print(f'Graph has {data.num_edges} edges, of which {num_pos} are positive, and {num_neg} are negative.')\n",
    "        print(f'Positive labels: {true_pos} correctly identified, {false_neg} incorrectly marked as negative.')\n",
    "        print(f'Negative labels: {true_neg} correctly identified, {false_pos} incorrectly marked as positive.')"
   ]
  },
  {
   "cell_type": "code",
   "execution_count": 6,
   "id": "0fe2f54b",
   "metadata": {},
   "outputs": [],
   "source": [
    "# mean = 0.0\n",
    "# with torch.no_grad():\n",
    "#     for data in tqdm(loader):\n",
    "#         mean += float(len(data.y) - data.y.sum()) / float(data.y.sum())\n",
    "        \n",
    "# mean = mean / float(len(loader))\n",
    "# print(mean)"
   ]
  },
  {
   "cell_type": "code",
   "execution_count": null,
   "id": "79483517",
   "metadata": {},
   "outputs": [],
   "source": []
  }
 ],
 "metadata": {
  "kernelspec": {
   "display_name": "Python 3",
   "language": "python",
   "name": "python3"
  },
  "language_info": {
   "codemirror_mode": {
    "name": "ipython",
    "version": 3
   },
   "file_extension": ".py",
   "mimetype": "text/x-python",
   "name": "python",
   "nbconvert_exporter": "python",
   "pygments_lexer": "ipython3",
   "version": "3.8.8"
  }
 },
 "nbformat": 4,
 "nbformat_minor": 5
}
