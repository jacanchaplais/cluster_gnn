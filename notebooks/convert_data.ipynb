{
 "cells": [
  {
   "cell_type": "code",
   "execution_count": 1,
   "id": "8293540f",
   "metadata": {},
   "outputs": [],
   "source": [
    "import numpy as np\n",
    "import pandas as pd\n",
    "import vaex as vpd"
   ]
  },
  {
   "cell_type": "markdown",
   "id": "1c13aef3",
   "metadata": {},
   "source": [
    "Reference dataset taken from https://zenodo.org/record/3981290#.YIgTCi9Q3xW.\n",
    "\n",
    "Description:\n",
    "* 13 TeV collision data simulated with pythia 8.183.\n",
    "* wboson.txt contains events generated from a W' boson with a mass of 600 GeV, which decays 100% of the time to a W boson and a Z boson. The W boson is forced to decay haronically and the Z boson decays into neutrinos.\n",
    "* qstar.txt contains events generated from a excited quark q* with a mass of 600 GeV, which decays 100% of the time to a quark and a Z boson. The Z boson is forced to decay into neutrinos.\n",
    "* events in the text format\n",
    "* each line in the text represent one event, which contains variable number of detector-stable particles.\n",
    "* each particle contains 7 features in order: [px, py, pz, E, pdgID, is-from-W, is-in-leading-jet]. The first four features are the four momentum of the particle, and pdgID is the pag number of the particle. is-from-W is 1 if the particle coming from W boson and 0 otherwise. is-in-leading-jet is 1 if the particle is inside the leading jet reconstructed from the anti-kT jet algorithm (R=1.0)"
   ]
  },
  {
   "cell_type": "code",
   "execution_count": 2,
   "id": "76466710",
   "metadata": {},
   "outputs": [],
   "source": [
    "# reading in the silly data storage layout\n",
    "dir_path = '../data/external/'\n",
    "fname = 'wboson'\n",
    "fext = '.txt'\n",
    "evt = {}\n",
    "i = 0\n",
    "with open(dir_path + fname + fext) as f:\n",
    "    for line in f:\n",
    "        evt[i] = {}\n",
    "        data = np.fromstring(line, sep=' ') # flattened data for evt\n",
    "        num_cols = 7 # specified in description\n",
    "        num_rows = len(data) // num_cols\n",
    "        data = data.reshape((num_rows, num_cols))\n",
    "        evt[i]['px'], evt[i]['py'], evt[i]['pz'], evt[i]['E'], evt[i]['pdg'], evt[i]['is_from_W'], evt[i]['is_lead_jet'] = data.T\n",
    "        i = i + 1"
   ]
  },
  {
   "cell_type": "code",
   "execution_count": 3,
   "id": "3c91e95f",
   "metadata": {
    "scrolled": false
   },
   "outputs": [],
   "source": [
    "df = pd.DataFrame.from_dict(evt, orient='index')"
   ]
  },
  {
   "cell_type": "code",
   "execution_count": 4,
   "id": "cb60fd1b",
   "metadata": {},
   "outputs": [],
   "source": [
    "df['evt_num'] = df.index"
   ]
  },
  {
   "cell_type": "code",
   "execution_count": 5,
   "id": "72372453",
   "metadata": {},
   "outputs": [],
   "source": [
    "df = df.set_index(['evt_num']).apply(pd.Series.explode).reset_index().set_index('evt_num')"
   ]
  },
  {
   "cell_type": "code",
   "execution_count": 6,
   "id": "502d23ec",
   "metadata": {},
   "outputs": [],
   "source": [
    "df = df.astype({\n",
    "    'px': np.float32,\n",
    "    'py': np.float32,\n",
    "    'pz': np.float32,\n",
    "    'E': np.float32,\n",
    "    'pdg': np.int32,\n",
    "    'is_from_W': np.bool_,\n",
    "    'is_lead_jet': np.bool_\n",
    "})\n",
    "vdf = vpd.from_pandas(df, name='qstar', copy_index=True, index_name='evt_num')"
   ]
  },
  {
   "cell_type": "code",
   "execution_count": null,
   "id": "579effd7",
   "metadata": {
    "scrolled": true
   },
   "outputs": [],
   "source": [
    "vdf.export_hdf5(dir_path + fname + '.hdf5')"
   ]
  }
 ],
 "metadata": {
  "kernelspec": {
   "display_name": "Python 3",
   "language": "python",
   "name": "python3"
  },
  "language_info": {
   "codemirror_mode": {
    "name": "ipython",
    "version": 3
   },
   "file_extension": ".py",
   "mimetype": "text/x-python",
   "name": "python",
   "nbconvert_exporter": "python",
   "pygments_lexer": "ipython3",
   "version": "3.8.8"
  }
 },
 "nbformat": 4,
 "nbformat_minor": 5
}
