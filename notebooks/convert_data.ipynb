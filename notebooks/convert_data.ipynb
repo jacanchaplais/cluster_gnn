{
 "cells": [
  {
   "cell_type": "code",
   "execution_count": 1,
   "id": "7adb601e",
   "metadata": {},
   "outputs": [],
   "source": [
    "import numpy as np\n",
    "import h5py\n",
    "from tqdm import tqdm\n",
    "from numba import jit"
   ]
  },
  {
   "cell_type": "code",
   "execution_count": 2,
   "id": "c493ef63",
   "metadata": {},
   "outputs": [],
   "source": [
    "@jit\n",
    "def get_edges(num_nodes):\n",
    "    \"\"\"Returns COO formatted graph edges for\n",
    "    full connected graph of given number of nodes.\n",
    "    type: (2, num_nodes * (num_nodes - 1)) dim array\n",
    "    \"\"\"\n",
    "    nodes = np.arange(num_nodes)\n",
    "    edge_idx = np.vstack((\n",
    "        np.repeat(nodes, num_nodes),\n",
    "        np.repeat(nodes, num_nodes).reshape(-1, num_nodes).T.flatten()\n",
    "    ))\n",
    "    # removing self-loops\n",
    "    mask = edge_idx[0] != edge_idx[1]\n",
    "    edge_idx = edge_idx[:, mask]\n",
    "    return edge_idx"
   ]
  },
  {
   "cell_type": "markdown",
   "id": "484aad81",
   "metadata": {},
   "source": [
    "Reference dataset taken from https://zenodo.org/record/3981290#.YIgTCi9Q3xW.\n",
    "\n",
    "Description:\n",
    "* 13 TeV collision data simulated with pythia 8.183.\n",
    "* wboson.txt contains events generated from a W' boson with a mass of 600 GeV, which decays 100% of the time to a W boson and a Z boson. The W boson is forced to decay haronically and the Z boson decays into neutrinos.\n",
    "* qstar.txt contains events generated from a excited quark q* with a mass of 600 GeV, which decays 100% of the time to a quark and a Z boson. The Z boson is forced to decay into neutrinos.\n",
    "* events in the text format\n",
    "* each line in the text represent one event, which contains variable number of detector-stable particles.\n",
    "* each particle contains 7 features in order: [px, py, pz, E, pdgID, is-from-W, is-in-leading-jet]. The first four features are the four momentum of the particle, and pdgID is the pag number of the particle. is-from-W is 1 if the particle coming from W boson and 0 otherwise. is-in-leading-jet is 1 if the particle is inside the leading jet reconstructed from the anti-kT jet algorithm (R=1.0)"
   ]
  },
  {
   "cell_type": "code",
   "execution_count": null,
   "id": "8018ab57",
   "metadata": {},
   "outputs": [
    {
     "name": "stderr",
     "output_type": "stream",
     "text": [
      "85474it [10:38, 129.95it/s]"
     ]
    }
   ],
   "source": [
    "in_dir = '../data/external/'\n",
    "in_fnames = ['wboson', 'qstar']\n",
    "in_ext = '.txt'\n",
    "out_path = '../data/processed/events.hdf5'\n",
    "with h5py.File(out_path, 'w', libver='latest') as f_out:\n",
    "    for in_fname in in_fnames:\n",
    "        parton = f_out.create_group(in_fname)\n",
    "        with open(in_dir + in_fname + in_ext, 'r') as f:\n",
    "            for evt_num, line in enumerate(tqdm(f)):\n",
    "                data = np.fromstring(line, sep=' ') # flattened data for evt\n",
    "                num_cols = 7 # specified in description\n",
    "                num_pcls = len(data) // num_cols\n",
    "                data = data.reshape((num_pcls, num_cols))\n",
    "                evt_grp = parton.create_group(f'event_{evt_num:06}')\n",
    "                evt_grp.attrs['num_pcls'] = num_pcls\n",
    "                pmu = evt_grp.create_dataset(\n",
    "                    name='pmu',\n",
    "                    shape=(num_pcls, 4),\n",
    "                    compression='lzf',\n",
    "                    shuffle=True,\n",
    "                    dtype='<f')\n",
    "                pmu[...] = data[:, :4]\n",
    "                pdg = evt_grp.create_dataset(\n",
    "                    name='pdg',\n",
    "                    shape=(num_pcls,),\n",
    "                    compression='lzf',\n",
    "                    shuffle=True,\n",
    "                    dtype='<i4')\n",
    "                pdg[...] = data[:, 4]\n",
    "                from_W = evt_grp.create_dataset(\n",
    "                    name='is_from_W',\n",
    "                    shape=(num_pcls,),\n",
    "                    compression='lzf',\n",
    "                    shuffle=True,\n",
    "                    dtype='<?')\n",
    "                from_W[...] = data[:, 5].astype(np.bool_)\n",
    "                is_lead = evt_grp.create_dataset(\n",
    "                    name='is_lead_jet',\n",
    "                    shape=(num_pcls,),\n",
    "                    compression='lzf',\n",
    "                    shuffle=True,\n",
    "                    dtype='<?')\n",
    "                is_lead[...] = data[:, 6].astype(np.bool_)\n",
    "                edge_idx = get_edges(num_pcls)\n",
    "                edges = evt_grp.create_dataset(\n",
    "                    name='edges',\n",
    "                    shape=edge_idx.shape,\n",
    "                    compression='lzf',\n",
    "                    shuffle=True,\n",
    "                    dtype='<H')\n",
    "                edges[...] = edge_idx\n",
    "        parton.attrs['num_evts'] = int(evt_num + 1)\n",
    "        print(in_fname + ' conversion complete.')"
   ]
  },
  {
   "cell_type": "code",
   "execution_count": null,
   "id": "0e632ca9",
   "metadata": {},
   "outputs": [],
   "source": []
  }
 ],
 "metadata": {
  "kernelspec": {
   "display_name": "Python 3",
   "language": "python",
   "name": "python3"
  },
  "language_info": {
   "codemirror_mode": {
    "name": "ipython",
    "version": 3
   },
   "file_extension": ".py",
   "mimetype": "text/x-python",
   "name": "python",
   "nbconvert_exporter": "python",
   "pygments_lexer": "ipython3",
   "version": "3.8.8"
  }
 },
 "nbformat": 4,
 "nbformat_minor": 5
}
