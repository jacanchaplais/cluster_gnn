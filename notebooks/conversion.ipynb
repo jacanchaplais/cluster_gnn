{
 "cells": [
  {
   "cell_type": "code",
   "execution_count": 1,
   "id": "7adb601e",
   "metadata": {},
   "outputs": [],
   "source": [
    "from tqdm import tqdm\n",
    "import numpy as np\n",
    "\n",
    "from cluster_gnn.data import convert"
   ]
  },
  {
   "cell_type": "markdown",
   "id": "484aad81",
   "metadata": {},
   "source": [
    "Reference dataset taken from https://zenodo.org/record/3981290#.YIgTCi9Q3xW.\n",
    "\n",
    "Description:\n",
    "* 13 TeV collision data simulated with pythia 8.183.\n",
    "* wboson.txt contains events generated from a W' boson with a mass of 600 GeV, which decays 100% of the time to a W boson and a Z boson. The W boson is forced to decay haronically and the Z boson decays into neutrinos.\n",
    "* qstar.txt contains events generated from a excited quark q* with a mass of 600 GeV, which decays 100% of the time to a quark and a Z boson. The Z boson is forced to decay into neutrinos.\n",
    "* events in the text format\n",
    "* each line in the text represent one event, which contains variable number of detector-stable particles.\n",
    "* each particle contains 7 features in order: [px, py, pz, E, pdgID, is-from-W, is-in-leading-jet]. The first four features are the four momentum of the particle, and pdgID is the pag number of the particle. is-from-W is 1 if the particle coming from W boson and 0 otherwise. is-in-leading-jet is 1 if the particle is inside the leading jet reconstructed from the anti-kT jet algorithm (R=1.0)"
   ]
  },
  {
   "cell_type": "code",
   "execution_count": 2,
   "id": "00daf4de",
   "metadata": {
    "scrolled": true
   },
   "outputs": [
    {
     "name": "stderr",
     "output_type": "stream",
     "text": [
      "100000it [03:33, 468.03it/s]\n"
     ]
    }
   ],
   "source": [
    "with convert.DataWriter('../data/processed/test3.hdf5') as f_out:\n",
    "    with f_out.new_process('wboson') as process:\n",
    "        process.decay(in_pcls=(2212, 2212), out_pcls=(23, 24))\n",
    "        process.signal_id(signal_pcl=24)\n",
    "        process.com_energy(energy=13.0, unit='TeV')\n",
    "        with open('../data/external/wboson.txt', 'r') as f_in:\n",
    "            for evt_num, line in enumerate(tqdm(f_in)):\n",
    "                data = np.fromstring(line, sep=' ') # flattened data for evt\n",
    "                num_cols = 7 # specified in description\n",
    "                num_pcls = len(data) // num_cols\n",
    "                data = data.reshape((num_pcls, num_cols))\n",
    "                with process.new_event() as event:\n",
    "                    event.pmu(data[:, :4])\n",
    "                    event.pdg(data[:, 4])\n",
    "                    event.is_signal(data[:, 5].astype(np.bool_))"
   ]
  }
 ],
 "metadata": {
  "kernelspec": {
   "display_name": "Python 3 (ipykernel)",
   "language": "python",
   "name": "python3"
  },
  "language_info": {
   "codemirror_mode": {
    "name": "ipython",
    "version": 3
   },
   "file_extension": ".py",
   "mimetype": "text/x-python",
   "name": "python",
   "nbconvert_exporter": "python",
   "pygments_lexer": "ipython3",
   "version": "3.8.10"
  }
 },
 "nbformat": 4,
 "nbformat_minor": 5
}
